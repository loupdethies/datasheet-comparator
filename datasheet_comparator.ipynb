{
 "cells": [
  {
   "cell_type": "markdown",
   "id": "52629582-ec22-447a-ae09-cba16a46976d",
   "metadata": {},
   "source": [
    "# Datasheet Comparator - MVP"
   ]
  },
  {
   "cell_type": "markdown",
   "id": "b51c91b6-953b-479c-acc5-ab2a189fabba",
   "metadata": {},
   "source": [
    "# 📌 Section A: Setup"
   ]
  },
  {
   "cell_type": "code",
   "execution_count": null,
   "id": "553666d5-af7e-46f0-b945-0d48c32bfbbf",
   "metadata": {},
   "outputs": [],
   "source": [
    "import os\n",
    "import requests\n",
    "from dotenv import load_dotenv\n",
    "from bs4 import BeautifulSoup\n",
    "from IPython.display import Markdown, display\n",
    "from openai import OpenAI\n",
    "import fitz  # PyMuPDF for PDF parsing\n",
    "import pandas as pd"
   ]
  },
  {
   "cell_type": "markdown",
   "id": "a19c077a-36e3-4ff2-bee7-85f23e90b89a",
   "metadata": {},
   "source": [
    "# Load OpenAI API key from environment variable (recommended)"
   ]
  },
  {
   "cell_type": "code",
   "execution_count": null,
   "id": "6435f1c7-f161-4cad-b68a-05080304ff22",
   "metadata": {},
   "outputs": [],
   "source": [
    "openai.api_key = os.getenv(\"OPENAI_API_KEY\")"
   ]
  },
  {
   "cell_type": "markdown",
   "id": "34916ec4-643c-4b76-8e21-13c3364782fa",
   "metadata": {},
   "source": [
    "# Define paths to datasheets"
   ]
  },
  {
   "cell_type": "code",
   "execution_count": null,
   "id": "42621aa4-7094-4209-95ba-ecf03ba609fb",
   "metadata": {},
   "outputs": [],
   "source": [
    "pdf_path_1 = \"./datasheets/part_old.pdf\"\n",
    "pdf_path_2 = \"./datasheets/part_new.pdf\""
   ]
  },
  {
   "cell_type": "markdown",
   "id": "8f09e201-ab22-4b9d-a9a3-b12cc671a68a",
   "metadata": {},
   "source": [
    "# 📌 Section B: Extract text from datasheets"
   ]
  },
  {
   "cell_type": "code",
   "execution_count": null,
   "id": "ff36d62e-efb6-4d08-a1d5-ceb470917103",
   "metadata": {},
   "outputs": [],
   "source": [
    "def extract_text_from_pdf(path):\n",
    "    text = \"\"\n",
    "    with fitz.open(path) as doc:\n",
    "        for page in doc:\n",
    "            text += page.get_text()\n",
    "    return text\n",
    "\n",
    "text_old = extract_text_from_pdf(pdf_path_1)\n",
    "text_new = extract_text_from_pdf(pdf_path_2)"
   ]
  },
  {
   "cell_type": "markdown",
   "id": "0da6bc72-93e2-4229-885b-7020f3920855",
   "metadata": {},
   "source": [
    "# 📌 Section C: Use ChatGPT to summarize and compare"
   ]
  },
  {
   "cell_type": "code",
   "execution_count": null,
   "id": "4ff4e362-11d4-4737-a10e-1953ac0eac55",
   "metadata": {},
   "outputs": [],
   "source": [
    "def summarize_datasheet(text, part_name):\n",
    "    prompt = f\"\"\"\n",
    "    Summarize the most important technical characteristics of the electronic component '{part_name}' based on this datasheet text:\n",
    "    ---\n",
    "    {text}\n",
    "    ---\n",
    "    Give a structured list of properties like voltage, current, dimensions, operating temperature, etc.\n",
    "    \"\"\"\n",
    "    response = openai.ChatCompletion.create(\n",
    "        model=\"gpt-4\",\n",
    "        messages=[{\"role\": \"user\", \"content\": prompt}]\n",
    "    )\n",
    "    return response['choices'][0]['message']['content']\n",
    "\n",
    "summary_old = summarize_datasheet(text_old, \"Old Part\")\n",
    "summary_new = summarize_datasheet(text_new, \"New Part\")\n",
    "\n",
    "\n",
    "def compare_parts(text1, text2):\n",
    "    prompt = f\"\"\"\n",
    "    Compare the following two summaries of electronic components and evaluate whether the second part is a valid replacement for the first one.\n",
    "    Identify any differences in electrical specs, mechanical dimensions, and compliance with medical device requirements.\n",
    "    Suggest what changes would be required to use the second part in place of the first (e.g., schematic/layout changes).\n",
    "    \n",
    "    Old Part Summary:\n",
    "    {text1}\n",
    "\n",
    "    New Part Summary:\n",
    "    {text2}\n",
    "\n",
    "    Provide a table of differences and a short final recommendation.\n",
    "    \"\"\"\n",
    "    response = openai.ChatCompletion.create(\n",
    "        model=\"gpt-4\",\n",
    "        messages=[{\"role\": \"user\", \"content\": prompt}]\n",
    "    )\n",
    "    return response['choices'][0]['message']['content']\n",
    "\n",
    "comparison_result = compare_parts(summary_old, summary_new)"
   ]
  },
  {
   "cell_type": "markdown",
   "id": "92524623-b1f9-4b55-9056-d02c41457df4",
   "metadata": {},
   "source": [
    "# 📌 Section D: Display results"
   ]
  },
  {
   "cell_type": "code",
   "execution_count": null,
   "id": "ab2f1cfb-7e7b-429d-9f53-68524f93afbf",
   "metadata": {},
   "outputs": [],
   "source": [
    "print(\"\\n=== Summary: Old Part ===\\n\")\n",
    "print(summary_old)\n",
    "\n",
    "print(\"\\n=== Summary: New Part ===\\n\")\n",
    "print(summary_new)\n",
    "\n",
    "print(\"\\n=== Comparison and Recommendation ===\\n\")\n",
    "print(comparison_result)"
   ]
  },
  {
   "cell_type": "markdown",
   "id": "09c76689-db27-4fa4-9fb2-4ac1d4d111fb",
   "metadata": {},
   "source": [
    "# 📌 Section E: Next Steps (to be developed)"
   ]
  },
  {
   "cell_type": "markdown",
   "id": "8ade0b16-52a6-4af4-a1ae-d0a505bf87a0",
   "metadata": {},
   "source": [
    "# - Parse key properties into structured tables (e.g., using regex or ChatGPT)"
   ]
  },
  {
   "cell_type": "markdown",
   "id": "2a7f6e50-1490-47ef-b911-278981636528",
   "metadata": {},
   "source": [
    "# - Automatically download datasheets from distributor websites"
   ]
  },
  {
   "cell_type": "markdown",
   "id": "740bdc6d-48e4-4c7f-b7e9-4bb0d86b653f",
   "metadata": {},
   "source": [
    "# - Search for compatible parts via web APIs"
   ]
  },
  {
   "cell_type": "markdown",
   "id": "adda4dda-8bed-423b-a9c2-87f988ffa391",
   "metadata": {},
   "source": [
    "# - Export results to Excel or Markdown"
   ]
  }
 ],
 "metadata": {
  "kernelspec": {
   "display_name": "Python (datasheet_env)",
   "language": "python",
   "name": "datasheet_env"
  },
  "language_info": {
   "codemirror_mode": {
    "name": "ipython",
    "version": 3
   },
   "file_extension": ".py",
   "mimetype": "text/x-python",
   "name": "python",
   "nbconvert_exporter": "python",
   "pygments_lexer": "ipython3",
   "version": "3.11.11"
  }
 },
 "nbformat": 4,
 "nbformat_minor": 5
}
